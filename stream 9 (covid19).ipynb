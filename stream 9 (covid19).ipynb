{
 "cells": [
  {
   "cell_type": "code",
   "execution_count": 18,
   "metadata": {},
   "outputs": [
    {
     "name": "stdout",
     "output_type": "stream",
     "text": [
      "[WinError 2] The system cannot find the file specified: 'desktop'\n",
      "C:\\Users\\dell\\desktop\n"
     ]
    }
   ],
   "source": [
    "cd desktop"
   ]
  },
  {
   "cell_type": "code",
   "execution_count": 19,
   "metadata": {},
   "outputs": [
    {
     "name": "stdout",
     "output_type": "stream",
     "text": [
      "C:\\Users\\dell\\desktop\\dataset28\n"
     ]
    }
   ],
   "source": [
    "cd dataset28/"
   ]
  },
  {
   "cell_type": "code",
   "execution_count": 20,
   "metadata": {},
   "outputs": [
    {
     "name": "stdout",
     "output_type": "stream",
     "text": [
      " Volume in drive C has no label.\n",
      " Volume Serial Number is 92D9-4AAE\n",
      "\n",
      " Directory of C:\\Users\\dell\\desktop\\dataset28\n",
      "\n",
      "31-03-2020  09:08    <DIR>          .\n",
      "31-03-2020  09:08    <DIR>          ..\n",
      "28-03-2020  06:28               224 AgeGroupDetails.csv\n",
      "31-03-2020  09:08    <DIR>          cache\n",
      "28-03-2020  06:28            18,157 covid_19_india.csv\n",
      "28-03-2020  06:28             2,373 HospitalBedsIndia.csv\n",
      "28-03-2020  06:28             1,275 ICMRTestingDetails.csv\n",
      "28-03-2020  06:28           164,318 IndividualDetails.csv\n",
      "28-03-2020  06:28             3,663 population_india_census2011.csv\n",
      "06-10-2019  07:52            41,983 student-mat.csv\n",
      "               7 File(s)        231,993 bytes\n",
      "               3 Dir(s)  40,007,323,648 bytes free\n"
     ]
    }
   ],
   "source": [
    "ls"
   ]
  },
  {
   "cell_type": "code",
   "execution_count": 21,
   "metadata": {},
   "outputs": [
    {
     "data": {
      "text/html": [
       "<div>\n",
       "<style scoped>\n",
       "    .dataframe tbody tr th:only-of-type {\n",
       "        vertical-align: middle;\n",
       "    }\n",
       "\n",
       "    .dataframe tbody tr th {\n",
       "        vertical-align: top;\n",
       "    }\n",
       "\n",
       "    .dataframe thead th {\n",
       "        text-align: right;\n",
       "    }\n",
       "</style>\n",
       "<table border=\"1\" class=\"dataframe\">\n",
       "  <thead>\n",
       "    <tr style=\"text-align: right;\">\n",
       "      <th></th>\n",
       "      <th>SNo</th>\n",
       "      <th>DateTime</th>\n",
       "      <th>TotalSamplesTested</th>\n",
       "      <th>TotalIndividualsTested</th>\n",
       "      <th>TotalPositiveCases</th>\n",
       "      <th>Source</th>\n",
       "    </tr>\n",
       "  </thead>\n",
       "  <tbody>\n",
       "    <tr>\n",
       "      <th>0</th>\n",
       "      <td>1</td>\n",
       "      <td>13/03/20 0:00</td>\n",
       "      <td>6500</td>\n",
       "      <td>5900</td>\n",
       "      <td>78</td>\n",
       "      <td>Press_Release_ICMR_13March2020.pdf</td>\n",
       "    </tr>\n",
       "    <tr>\n",
       "      <th>1</th>\n",
       "      <td>2</td>\n",
       "      <td>18/03/20 18:00</td>\n",
       "      <td>13125</td>\n",
       "      <td>12235</td>\n",
       "      <td>150</td>\n",
       "      <td>ICMR_website_update_18March_6PM_IST.pdf</td>\n",
       "    </tr>\n",
       "    <tr>\n",
       "      <th>2</th>\n",
       "      <td>3</td>\n",
       "      <td>19/03/20 10:00</td>\n",
       "      <td>13316</td>\n",
       "      <td>12426</td>\n",
       "      <td>168</td>\n",
       "      <td>ICMR_website_update_19March_10AM_IST_V2.pdf</td>\n",
       "    </tr>\n",
       "    <tr>\n",
       "      <th>3</th>\n",
       "      <td>4</td>\n",
       "      <td>19/03/20 18:00</td>\n",
       "      <td>14175</td>\n",
       "      <td>13285</td>\n",
       "      <td>182</td>\n",
       "      <td>ICMR_website_update_19March_6PM_IST.pdf</td>\n",
       "    </tr>\n",
       "    <tr>\n",
       "      <th>4</th>\n",
       "      <td>5</td>\n",
       "      <td>20/03/20 10:00</td>\n",
       "      <td>14376</td>\n",
       "      <td>13486</td>\n",
       "      <td>206</td>\n",
       "      <td>ICMR_website_update_20March_10AM_IST.pdf</td>\n",
       "    </tr>\n",
       "    <tr>\n",
       "      <th>5</th>\n",
       "      <td>6</td>\n",
       "      <td>20/03/20 18:00</td>\n",
       "      <td>15404</td>\n",
       "      <td>14514</td>\n",
       "      <td>236</td>\n",
       "      <td>ICMR_website_update_20March_6PM_IST.pdf</td>\n",
       "    </tr>\n",
       "    <tr>\n",
       "      <th>6</th>\n",
       "      <td>7</td>\n",
       "      <td>21/03/20 10:00</td>\n",
       "      <td>15701</td>\n",
       "      <td>14811</td>\n",
       "      <td>271</td>\n",
       "      <td>ICMR_website_update_21March_10AM_IST.pdf</td>\n",
       "    </tr>\n",
       "    <tr>\n",
       "      <th>7</th>\n",
       "      <td>8</td>\n",
       "      <td>21/03/20 18:00</td>\n",
       "      <td>16911</td>\n",
       "      <td>16021</td>\n",
       "      <td>315</td>\n",
       "      <td>ICMR_website_update_21March_6PM_IST.pdf</td>\n",
       "    </tr>\n",
       "    <tr>\n",
       "      <th>8</th>\n",
       "      <td>9</td>\n",
       "      <td>22/03/20 10:00</td>\n",
       "      <td>16999</td>\n",
       "      <td>16109</td>\n",
       "      <td>341</td>\n",
       "      <td>ICMR_website_update_22March_10AM_IST.pdf</td>\n",
       "    </tr>\n",
       "    <tr>\n",
       "      <th>9</th>\n",
       "      <td>10</td>\n",
       "      <td>22/03/20 18:00</td>\n",
       "      <td>18127</td>\n",
       "      <td>17237</td>\n",
       "      <td>396</td>\n",
       "      <td>ICMR_website_update_22March_6PM_IST.pdf</td>\n",
       "    </tr>\n",
       "    <tr>\n",
       "      <th>10</th>\n",
       "      <td>11</td>\n",
       "      <td>23/03/20 10:00</td>\n",
       "      <td>18383</td>\n",
       "      <td>17493</td>\n",
       "      <td>415</td>\n",
       "      <td>ICMR_website_update_23March_10AM_IST.pdf</td>\n",
       "    </tr>\n",
       "    <tr>\n",
       "      <th>11</th>\n",
       "      <td>12</td>\n",
       "      <td>23/03/20 20:00</td>\n",
       "      <td>20707</td>\n",
       "      <td>19817</td>\n",
       "      <td>471</td>\n",
       "      <td>ICMR_website_update_23March_8PM_IST.pdf</td>\n",
       "    </tr>\n",
       "    <tr>\n",
       "      <th>12</th>\n",
       "      <td>13</td>\n",
       "      <td>24/03/20 10:00</td>\n",
       "      <td>20864</td>\n",
       "      <td>19974</td>\n",
       "      <td>482</td>\n",
       "      <td>ICMR_website_update_24March_10AM_IST.pdf</td>\n",
       "    </tr>\n",
       "    <tr>\n",
       "      <th>13</th>\n",
       "      <td>14</td>\n",
       "      <td>24/03/20 20:00</td>\n",
       "      <td>22694</td>\n",
       "      <td>21804</td>\n",
       "      <td>536</td>\n",
       "      <td>ICMR_website_update_24March_8PM_IST.pdf</td>\n",
       "    </tr>\n",
       "    <tr>\n",
       "      <th>14</th>\n",
       "      <td>15</td>\n",
       "      <td>25/03/20 10:00</td>\n",
       "      <td>22928</td>\n",
       "      <td>22038</td>\n",
       "      <td>539</td>\n",
       "      <td>ICMR_website_update_25March_10AM_IST.pdf</td>\n",
       "    </tr>\n",
       "    <tr>\n",
       "      <th>15</th>\n",
       "      <td>16</td>\n",
       "      <td>25/03/20 20:00</td>\n",
       "      <td>25144</td>\n",
       "      <td>24254</td>\n",
       "      <td>581</td>\n",
       "      <td>ICMR_website_update_25March_8PM_IST.pdf</td>\n",
       "    </tr>\n",
       "  </tbody>\n",
       "</table>\n",
       "</div>"
      ],
      "text/plain": [
       "    SNo        DateTime  TotalSamplesTested  TotalIndividualsTested  \\\n",
       "0     1   13/03/20 0:00                6500                    5900   \n",
       "1     2  18/03/20 18:00               13125                   12235   \n",
       "2     3  19/03/20 10:00               13316                   12426   \n",
       "3     4  19/03/20 18:00               14175                   13285   \n",
       "4     5  20/03/20 10:00               14376                   13486   \n",
       "5     6  20/03/20 18:00               15404                   14514   \n",
       "6     7  21/03/20 10:00               15701                   14811   \n",
       "7     8  21/03/20 18:00               16911                   16021   \n",
       "8     9  22/03/20 10:00               16999                   16109   \n",
       "9    10  22/03/20 18:00               18127                   17237   \n",
       "10   11  23/03/20 10:00               18383                   17493   \n",
       "11   12  23/03/20 20:00               20707                   19817   \n",
       "12   13  24/03/20 10:00               20864                   19974   \n",
       "13   14  24/03/20 20:00               22694                   21804   \n",
       "14   15  25/03/20 10:00               22928                   22038   \n",
       "15   16  25/03/20 20:00               25144                   24254   \n",
       "\n",
       "    TotalPositiveCases                                       Source  \n",
       "0                   78           Press_Release_ICMR_13March2020.pdf  \n",
       "1                  150      ICMR_website_update_18March_6PM_IST.pdf  \n",
       "2                  168  ICMR_website_update_19March_10AM_IST_V2.pdf  \n",
       "3                  182      ICMR_website_update_19March_6PM_IST.pdf  \n",
       "4                  206     ICMR_website_update_20March_10AM_IST.pdf  \n",
       "5                  236      ICMR_website_update_20March_6PM_IST.pdf  \n",
       "6                  271     ICMR_website_update_21March_10AM_IST.pdf  \n",
       "7                  315      ICMR_website_update_21March_6PM_IST.pdf  \n",
       "8                  341     ICMR_website_update_22March_10AM_IST.pdf  \n",
       "9                  396      ICMR_website_update_22March_6PM_IST.pdf  \n",
       "10                 415     ICMR_website_update_23March_10AM_IST.pdf  \n",
       "11                 471      ICMR_website_update_23March_8PM_IST.pdf  \n",
       "12                 482     ICMR_website_update_24March_10AM_IST.pdf  \n",
       "13                 536      ICMR_website_update_24March_8PM_IST.pdf  \n",
       "14                 539     ICMR_website_update_25March_10AM_IST.pdf  \n",
       "15                 581      ICMR_website_update_25March_8PM_IST.pdf  "
      ]
     },
     "execution_count": 21,
     "metadata": {},
     "output_type": "execute_result"
    }
   ],
   "source": [
    "import pandas as pd\n",
    "data = pd.read_csv('ICMRTestingDetails.csv')\n",
    "data"
   ]
  },
  {
   "cell_type": "code",
   "execution_count": 22,
   "metadata": {},
   "outputs": [],
   "source": [
    "from sklearn import linear_model\n",
    "import numpy as np\n",
    "from sklearn.model_selection import train_test_split # train test split data divided into two parts(1)training data(2)test data"
   ]
  },
  {
   "cell_type": "code",
   "execution_count": 26,
   "metadata": {},
   "outputs": [
    {
     "data": {
      "text/plain": [
       "KNeighborsRegressor(algorithm='auto', leaf_size=30, metric='minkowski',\n",
       "                    metric_params=None, n_jobs=None, n_neighbors=3, p=2,\n",
       "                    weights='distance')"
      ]
     },
     "execution_count": 26,
     "metadata": {},
     "output_type": "execute_result"
    }
   ],
   "source": [
    "# it gives not good eccuracy so its waste but for my understanding \n",
    "from sklearn.neighbors  import KNeighborsRegressor\n",
    "clf = KNeighborsRegressor(n_neighbors = 3 , weights = 'distance')\n",
    "clf.fit(np.array(data['SNo']).reshape(-1,1), data['TotalPositiveCases'])"
   ]
  },
  {
   "cell_type": "code",
   "execution_count": 27,
   "metadata": {},
   "outputs": [
    {
     "data": {
      "text/plain": [
       "<function numpy.reshape(a, newshape, order='C')>"
      ]
     },
     "execution_count": 27,
     "metadata": {},
     "output_type": "execute_result"
    }
   ],
   "source": [
    "clf.predict(np.asarray([26]).reshape(-1,1))\n",
    "np.reshape"
   ]
  },
  {
   "cell_type": "code",
   "execution_count": 28,
   "metadata": {},
   "outputs": [
    {
     "data": {
      "text/plain": [
       "LinearRegression(copy_X=True, fit_intercept=True, n_jobs=None, normalize=False)"
      ]
     },
     "execution_count": 28,
     "metadata": {},
     "output_type": "execute_result"
    }
   ],
   "source": [
    "reg = linear_model.LinearRegression()\n",
    "reg.fit(np.asarray(data['SNo']).reshape(-1,1), data['TotalPositiveCases'])"
   ]
  },
  {
   "cell_type": "code",
   "execution_count": null,
   "metadata": {},
   "outputs": [],
   "source": []
  },
  {
   "cell_type": "code",
   "execution_count": null,
   "metadata": {},
   "outputs": [],
   "source": []
  },
  {
   "cell_type": "code",
   "execution_count": null,
   "metadata": {},
   "outputs": [],
   "source": []
  },
  {
   "cell_type": "code",
   "execution_count": null,
   "metadata": {},
   "outputs": [],
   "source": []
  },
  {
   "cell_type": "code",
   "execution_count": null,
   "metadata": {},
   "outputs": [],
   "source": []
  },
  {
   "cell_type": "code",
   "execution_count": null,
   "metadata": {},
   "outputs": [],
   "source": []
  },
  {
   "cell_type": "code",
   "execution_count": null,
   "metadata": {},
   "outputs": [],
   "source": []
  },
  {
   "cell_type": "code",
   "execution_count": null,
   "metadata": {},
   "outputs": [],
   "source": []
  },
  {
   "cell_type": "code",
   "execution_count": null,
   "metadata": {},
   "outputs": [],
   "source": []
  }
 ],
 "metadata": {
  "kernelspec": {
   "display_name": "Python 3",
   "language": "python",
   "name": "python3"
  },
  "language_info": {
   "codemirror_mode": {
    "name": "ipython",
    "version": 3
   },
   "file_extension": ".py",
   "mimetype": "text/x-python",
   "name": "python",
   "nbconvert_exporter": "python",
   "pygments_lexer": "ipython3",
   "version": "3.7.3"
  }
 },
 "nbformat": 4,
 "nbformat_minor": 2
}
